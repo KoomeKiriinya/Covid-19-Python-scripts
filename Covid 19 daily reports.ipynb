{
 "cells": [
  {
   "cell_type": "code",
   "execution_count": 4,
   "metadata": {},
   "outputs": [],
   "source": [
    "import pandas as pd\n",
    "import datetime as dt\n",
    "from datetime import timedelta\n",
    "\n"
   ]
  },
  {
   "cell_type": "code",
   "execution_count": 5,
   "metadata": {},
   "outputs": [],
   "source": [
    "date_yest=(dt.datetime.now().date()-timedelta(days=1)).strftime(\"%m-%d-%Y\")\n",
    "date_bef_yest=(dt.datetime.now().date()-timedelta(days=1)).strftime(\"%m-%d-%Y\")\n",
    "url_day_before_yst=r\"https://raw.githubusercontent.com/CSSEGISandData/COVID-19/master/csse_covid_19_data/csse_covid_19_daily_reports/\"+date_bef_yest+\".csv\"\n",
    "\n",
    "url_day_before = r\"https://raw.githubusercontent.com/CSSEGISandData/COVID-19/master/csse_covid_19_data/csse_covid_19_daily_reports/\"+date_yest+\".csv\"\n",
    "try:\n",
    "    daily_reports=pd.read_csv(url_day_before, error_bad_lines=False)\n",
    "except:\n",
    "    daily_reports=pd.read_csv(url_day_before_yst, error_bad_lines=False)"
   ]
  }
 ],
 "metadata": {
  "kernelspec": {
   "display_name": "Python 3",
   "language": "python",
   "name": "python3"
  },
  "language_info": {
   "codemirror_mode": {
    "name": "ipython",
    "version": 3
   },
   "file_extension": ".py",
   "mimetype": "text/x-python",
   "name": "python",
   "nbconvert_exporter": "python",
   "pygments_lexer": "ipython3",
   "version": "3.6.0"
  }
 },
 "nbformat": 4,
 "nbformat_minor": 2
}
